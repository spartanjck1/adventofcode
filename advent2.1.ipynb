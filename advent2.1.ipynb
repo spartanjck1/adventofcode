{
 "cells": [
  {
   "cell_type": "code",
   "execution_count": 135,
   "id": "e4a051f2",
   "metadata": {},
   "outputs": [
    {
     "data": {
      "text/plain": [
       "8392"
      ]
     },
     "execution_count": 135,
     "metadata": {},
     "output_type": "execute_result"
    }
   ],
   "source": [
    "import pandas as pd\n",
    "import numpy as np\n",
    "\n",
    "df = pd.read_csv('advent2.csv')\n",
    "# points i get for the action i do only\n",
    "def whichmove(decision):\n",
    "    answer = 0\n",
    "    for i in decision:\n",
    "        if i == 'X':\n",
    "            answer += 1\n",
    "        elif i == 'Y':\n",
    "            answer += 2\n",
    "        else:\n",
    "            answer += 3\n",
    "    return answer\n",
    "#points I get for the outcome of the match\n",
    "#change letters into numbers in df\n",
    "opponentkey = {'A': 1, 'B': 2, 'C': 3}\n",
    "mekey = {'X': 1, 'Y': 2, 'Z': 3}\n",
    "\n",
    "for index, row in df.iterrows():\n",
    "    df.loc[index, 'oppnum'] = opponentkey[row.opponent]\n",
    "    df.loc[index, 'menum'] = mekey[row.me]\n",
    "\n",
    "#results of 1 and -2 mean we won, 0 ties \n",
    "    \n",
    "df['result'] = df.menum - df.oppnum\n",
    "\n",
    "\n",
    "def game(outcome):\n",
    "    count = 0\n",
    "    for line in outcome:\n",
    "        if line == 0:\n",
    "            count += 3\n",
    "        elif line == 1:\n",
    "            count += 6\n",
    "        elif line == -2:\n",
    "            count += 6\n",
    "        else:\n",
    "            count += 0\n",
    "    return count\n",
    "\n",
    "game(df.result)\n",
    "        \n",
    "#add two for score\n",
    "total + game(df.result)\n",
    "\n",
    "\n",
    "\n",
    "\n",
    "\n",
    "\n",
    "        "
   ]
  }
 ],
 "metadata": {
  "kernelspec": {
   "display_name": "Python 3 (ipykernel)",
   "language": "python",
   "name": "python3"
  },
  "language_info": {
   "codemirror_mode": {
    "name": "ipython",
    "version": 3
   },
   "file_extension": ".py",
   "mimetype": "text/x-python",
   "name": "python",
   "nbconvert_exporter": "python",
   "pygments_lexer": "ipython3",
   "version": "3.9.12"
  }
 },
 "nbformat": 4,
 "nbformat_minor": 5
}
