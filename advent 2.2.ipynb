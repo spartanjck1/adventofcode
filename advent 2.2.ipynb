{
 "cells": [
  {
   "cell_type": "code",
   "execution_count": 19,
   "id": "11721eeb",
   "metadata": {},
   "outputs": [
    {
     "data": {
      "text/plain": [
       "10116.0"
      ]
     },
     "execution_count": 19,
     "metadata": {},
     "output_type": "execute_result"
    }
   ],
   "source": [
    "import pandas as pd\n",
    "import numpy as np\n",
    "\n",
    "# X = lose\n",
    "# Y = tie\n",
    "# Z = win\n",
    "\n",
    "#part 1 of total point, what is the result\n",
    "df = pd.read_csv('advent2.csv')\n",
    "\n",
    "mekey = {'X': 0, 'Y': 3, 'Z': 6}\n",
    "opponentkey = {'A': 1, 'B': 2, 'C': 3}\n",
    "for index, row in df.iterrows():\n",
    "    df.loc[index, 'result'] = mekey[row.me]\n",
    "    df.loc[index, 'opphandscore'] = opponentkey[row.opponent]\n",
    "\n",
    "result_sum = df['result'].sum()\n",
    "\n",
    "df['difference'] = df.result - df.opphandscore\n",
    "\n",
    "weneedkey = {5: 2, 4: 3, 3: 1, 2: 1, 1: 2, 0: 3, -1: 3, -2: 1, -3:2 }\n",
    "for index, row in df.iterrows():\n",
    "    df.loc[index, 'weneedhand'] = weneedkey[row.difference]\n",
    "\n",
    "\n",
    "#find out what hand we need to play to get desired result:\n",
    "#win\n",
    "#if need to win and opponent hand score is 1, difference is 5, we need 2\n",
    "#if need to win and opponent hand score is 2, difference is 4, we need 3\n",
    "#if need to win and opponent hand score is 3, difference is 3, we need 1\n",
    "#tie\n",
    "#if need to tie and opponent hand score is 1, difference is 2, we need 1\n",
    "#if need to tie and opponent hand score is 2, difference is 1, we need 2\n",
    "#if need to tie and opponent hand score is 3, difference is 0, we need 3\n",
    "#loss\n",
    "#if need to lose and opponent hand score is 1, difference is -1, we need 3\n",
    "#if need to lose and opponent hand score is 2, difference is -2, we need 1\n",
    "#if need to lose and opponent hand score is 3, difference is -3, we need 2\n",
    "\n",
    "\n",
    "weneedhand_sum = df['weneedhand'].sum()\n",
    "\n",
    "weneedhand_sum + result_sum\n"
   ]
  }
 ],
 "metadata": {
  "kernelspec": {
   "display_name": "Python 3 (ipykernel)",
   "language": "python",
   "name": "python3"
  },
  "language_info": {
   "codemirror_mode": {
    "name": "ipython",
    "version": 3
   },
   "file_extension": ".py",
   "mimetype": "text/x-python",
   "name": "python",
   "nbconvert_exporter": "python",
   "pygments_lexer": "ipython3",
   "version": "3.9.12"
  }
 },
 "nbformat": 4,
 "nbformat_minor": 5
}
